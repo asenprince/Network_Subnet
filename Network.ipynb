{
 "cells": [
  {
   "cell_type": "code",
   "execution_count": 50,
   "id": "eeea638c-5543-4bc5-998c-814934614a30",
   "metadata": {},
   "outputs": [],
   "source": [
    "__author__\n",
    "\n",
    "import pandas as pd\n",
    "import numpy as np\n",
    "import math\n",
    "\n",
    "class NetworkAddressing():\n",
    "    '''\n",
    "    A python class to Subnet Class C Networks\n",
    "    \n",
    "    Definitions:\n",
    "        CIDR: Classless Inter-Domain Routing\n",
    "        \n",
    "    '''\n",
    "\n",
    "    def __init__(self, full_ip):\n",
    "        # constructor funtion\n",
    "        self.ip = full_ip.split('/')[0] if '/' in full_ip else full_ip\n",
    "        self.cidr =int(full_ip.split('/')[1]) if '/' in full_ip else None\n",
    "        self.check_fullIP_validity()\n",
    "        self.IPClass = None\n",
    "        self.partitionOctet = None\n",
    "        self.bits = [8, 16, 24, 32]\n",
    "        self.bitForPartition = None\n",
    "        self.subnetHosts = None\n",
    "        self.ipProperties = {\n",
    "            'A': {'Default Subnet': '255.0.0.0',\n",
    "                 'Default CIDR': 8,\n",
    "                 },\n",
    "            'B': {'Default Subnet': '255.255.0.0',\n",
    "                 'Default CIDR': 16,},\n",
    "            \n",
    "            'C': {'Default Subnet': '255.255.255.0',\n",
    "                 'Default CIDR': 32,}\n",
    "        }\n",
    "        self.subnetNetworkAddress = []\n",
    "        self.subnetBroadcastAddress = []\n",
    "        \n",
    "        #---------Calling Methods-----------------\n",
    "        self.findIPClass()\n",
    "        self.defaultBinaryIP, self.defaultOctetList = self.IPToBinary(self.ip)\n",
    "        self.defaultOctetPosition = self.retrieveOctetPosition(self.cidr)\n",
    "        self.defaultNetworkAddress, self.defaultBroadcastAddress, self.defaultSubnetMask = self.findNetworkBroadcastandSubnetAddresses(self.ip, self.cidr)\n",
    "        self.firstHost = self.findHostRange(self.defaultNetworkAddress, self.defaultBroadcastAddress)[0]\n",
    "        self.lastHost = self.findHostRange(self.defaultNetworkAddress, self.defaultBroadcastAddress)[-1]\n",
    "        self.numberOfHosts = len(self.findHostRange(self.defaultNetworkAddress, self.defaultBroadcastAddress)) + 2\n",
    "\n",
    "\n",
    "    def check_fullIP_validity(self):\n",
    "        if self.cidr is None:\n",
    "            return f'provide a valid IP. {self.ip} does not have cidr'\n",
    "\n",
    "    def findIPClass(self):\n",
    "        IPFirstOctet = int(self.ip.split('.')[0])\n",
    "        if IPFirstOctet < 128:\n",
    "            self.IPClass = 'A'\n",
    "        elif IPFirstOctet >= 128 and IPFirstOctet < 192:\n",
    "            self.IPClass = 'B'\n",
    "        elif IPFirstOctet >= 192 and IPFirstOctet < 224:\n",
    "            self.IPClass = 'C'\n",
    "        elif IPFirstOctet >= 224 and IPFirstOctet < 240:\n",
    "            self.IPClass = 'Multicast'\n",
    "        else:\n",
    "            self.IPClass = 'Reserved'\n",
    "\n",
    "    def retrieveOctetPosition(self, cidr):\n",
    "        \n",
    "        if cidr < 0:\n",
    "            print('invalid Network Bits')\n",
    "            return\n",
    "            \n",
    "        for i in range(len(self.bits)):\n",
    "            if cidr < self.bits[i]:\n",
    "                return i\n",
    "    \n",
    "    def paddedZeroes(self, binaryNumberString):\n",
    "        biLength = len(binaryNumberString)\n",
    "        zeroesToPad = (8 - biLength) * '0'\n",
    "        binaryNumberString = zeroesToPad + binaryNumberString\n",
    "        return binaryNumberString\n",
    "\n",
    "    \n",
    "    def binaryToDecimal(self, binaryNumber):\n",
    "        ''' method to convert binary number to decimal value\n",
    "        param:\n",
    "            binaryNumber (int): the binary number to be converted\n",
    "        returns:\n",
    "            decimalNumber (int): the converted number'''\n",
    "\n",
    "        decimalNumber = 0\n",
    "        bits = range(7, -1, -1)\n",
    "        for bit, i in zip(bits, range(0, 8)):\n",
    "            decimalNumber = decimalNumber + int(binaryNumber[i]) * 2**bit\n",
    "        return decimalNumber\n",
    "\n",
    "    \n",
    "    def convertDecimalToAnotherBase(self, baseNumber, numberToConvert):\n",
    "        ''' method to convert base 10 numbers (decimal) to other bases\n",
    "        param:\n",
    "            baseNumber (int): the base to be considered\n",
    "            numberToConvert (int): the base 10 number to be converted\n",
    "        returns:\n",
    "            baseString (str): the converted base number\n",
    "            '''\n",
    "        \n",
    "        baseString = ''\n",
    "        while True:\n",
    "            if numberToConvert < 0: # treat negative numbers\n",
    "                print('Cannot handle negative numbers')\n",
    "                break\n",
    "            \n",
    "            else:\n",
    "                if numberToConvert < baseNumber:\n",
    "                    baseString += str(numberToConvert)\n",
    "                    break\n",
    "                else:\n",
    "                    modNumber = numberToConvert % baseNumber\n",
    "                    baseString += str(modNumber)\n",
    "                    numberToConvert //= baseNumber\n",
    "        baseString = baseString[::-1]\n",
    "        return baseString\n",
    "    \n",
    "    def longIP(self, IP):\n",
    "        octetList = self.IPToBinary(IP)[1]\n",
    "        IPMerged=('').join(octetList)\n",
    "        return IPMerged\n",
    "\n",
    "    def insertDotInIP(self, longIP):\n",
    "        return '.'.join(longIP[i:i+8] for i in range(0, len(longIP), 8))\n",
    "\n",
    "    def breakIPsIntoOctets(self, longIPs):\n",
    "        dottedIPs = self.insertDotInIP(longIPs)\n",
    "        return [x for x in dottedIPs.split('.')]\n",
    "\n",
    "    def findNetworkBroadcastandSubnetAddresses(self, IP, cidr):\n",
    "        longIP = self.longIP(IP)\n",
    "        networkAddress = longIP[:cidr] + '0' * (len(longIP)-cidr)\n",
    "        networkAddress = [str(self.binaryToDecimal(x)) for x in self.breakIPsIntoOctets(networkAddress)]\n",
    "        networkAddress = '.'.join(networkAddress)\n",
    "        \n",
    "        broadcastAddress = longIP[:cidr] + '1' * (len(longIP)-cidr)\n",
    "        broadcastAddress = [str(self.binaryToDecimal(x)) for x in self.breakIPsIntoOctets(broadcastAddress)]\n",
    "        broadcastAddress = '.'.join(broadcastAddress)\n",
    "\n",
    "        subnetMaskAddress = cidr * '1' + '0'* ((8*4)-cidr)\n",
    "        subnetMaskAddress = [str(self.binaryToDecimal(x)) for x in self.breakIPsIntoOctets(subnetMaskAddress)]\n",
    "        subnetMaskAddress = '.'.join(subnetMaskAddress)\n",
    "\n",
    "        return networkAddress, broadcastAddress, subnetMaskAddress\n",
    "\n",
    "\n",
    "    \n",
    "    def IPToBinary(self, IP):\n",
    "        listOfIPs = [int(x) for x in IP.split('.')]\n",
    "        octetList = [self.paddedZeroes(self.convertDecimalToAnotherBase(2, x)) for x in listOfIPs]\n",
    "        binaryIP = '.'.join(octetList)\n",
    "        return binaryIP, octetList\n",
    "\n",
    "\n",
    "    def findHostRange(self, networkAddress, broadcastAddress):\n",
    "        hostsLastIPs = [str(x) for x in range(int(networkAddress.split('.')[-1]) +1, int(broadcastAddress.split('.')[-1]))]\n",
    "        hosts = [networkAddress.replace(networkAddress.split('.')[-1], x) for x in hostsLastIPs]\n",
    "        return hosts\n",
    "        \n",
    "    \n",
    "    def replaceLastOctet(self, IP, newOctet):\n",
    "        lastOctet = IP.split('.')[-1]\n",
    "        newIP = IP[:-len(lastOctet)] + str(newOctet)\n",
    "        return newIP\n",
    "    \n",
    "    def updateAddress(self, IP):\n",
    "        last = IP.split('.')[-1]\n",
    "        integerLast = int(last)\n",
    "        addition = integerLast + 1\n",
    "        newIP = IP[:-len(last)] + str(addition)\n",
    "        return newIP\n",
    "\n",
    "\n",
    "    def subNet(self, numberOfSubnets):\n",
    "        numberOfBits = math.log(numberOfSubnets, 2)\n",
    "        subnetCIDR = int(self.cidr + numberOfBits)\n",
    "        self.subnetHosts = int(self.numberOfHosts / numberOfSubnets)\n",
    "\n",
    "        octetPosition = self.retrieveOctetPosition(subnetCIDR)\n",
    "\n",
    "        defaultNetworkAddressLastOctet = self.defaultNetworkAddress.split('.')[octetPosition]\n",
    "        defaultBroadcastAddressLastOctet = self.defaultBroadcastAddress.split('.')[-1]\n",
    "        \n",
    "        subNetDictionary = {}\n",
    "            \n",
    "\n",
    "        networkAddresses = [self.defaultNetworkAddress[:-len(defaultNetworkAddressLastOctet)]+str(x) for x in range(int(defaultNetworkAddressLastOctet), int(defaultBroadcastAddressLastOctet), self.subnetHosts)]\n",
    "        broadcastAddresses = [self.findNetworkBroadcastandSubnetAddresses(x, subnetCIDR)[1] for x in networkAddresses]\n",
    "        subnetMasks = [self.findNetworkBroadcastandSubnetAddresses(x, subnetCIDR)[2] for x in networkAddresses]\n",
    "        subnetData = pd.DataFrame(columns=['SubnetID', \"Network Address\", 'FirstHost Address', 'LastHost Address', 'Broadcast Address', 'SubnetMask Address', 'CIDR'])\n",
    "        \n",
    "        for i in range(numberOfSubnets):\n",
    "            subnetID = f'SN{i+1}'\n",
    "            nAddress = networkAddresses[i]\n",
    "            fHost = self.findHostRange(networkAddresses[i], broadcastAddresses[i])[0]\n",
    "            lHost = self.findHostRange(networkAddresses[i], broadcastAddresses[i])[-1]\n",
    "            bAddress = broadcastAddresses[i]\n",
    "            subnetMask = subnetMasks[i]\n",
    "            CIDR = nAddress + '/' + str(int(subnetCIDR))\n",
    "\n",
    "            subnetData.loc[i] = [subnetID, nAddress, fHost, lHost, bAddress, subnetMask, CIDR]#, subnetMask]\n",
    "        \n",
    "        \n",
    "        subnetData.set_index('SubnetID', inplace=True)\n",
    "        print(f\"Number of Hosts in each subnet = {self.subnetHosts-2}\")\n",
    "        return subnetData"
   ]
  },
  {
   "cell_type": "code",
   "execution_count": 45,
   "id": "087726c8-2f9e-47d3-abc3-8834f1be7c48",
   "metadata": {},
   "outputs": [],
   "source": [
    "ip = '192.124.8.95/26'\n",
    "#cidr = 26"
   ]
  },
  {
   "cell_type": "code",
   "execution_count": 46,
   "id": "105af950-adce-4ec8-af02-6c364e935d82",
   "metadata": {},
   "outputs": [],
   "source": [
    "networkAddress = NetworkAddressing(ip)"
   ]
  },
  {
   "cell_type": "code",
   "execution_count": 47,
   "id": "04e65776-8d32-4992-84e1-85e0f7457517",
   "metadata": {},
   "outputs": [
    {
     "data": {
      "text/plain": [
       "3"
      ]
     },
     "execution_count": 47,
     "metadata": {},
     "output_type": "execute_result"
    }
   ],
   "source": [
    "networkAddress.defaultOctetPosition"
   ]
  },
  {
   "cell_type": "code",
   "execution_count": 48,
   "id": "2e5dbd80-a0f7-4974-981c-e1f2c4977c96",
   "metadata": {},
   "outputs": [
    {
     "data": {
      "text/plain": [
       "'192.124.8.127'"
      ]
     },
     "execution_count": 48,
     "metadata": {},
     "output_type": "execute_result"
    }
   ],
   "source": [
    "networkAddress.defaultBroadcastAddress"
   ]
  },
  {
   "cell_type": "code",
   "execution_count": 49,
   "id": "5073f0c6-643c-4d3a-bf7f-c6f2878e10e2",
   "metadata": {},
   "outputs": [
    {
     "name": "stdout",
     "output_type": "stream",
     "text": [
      "Number of Hosts in each subnet = 14\n"
     ]
    },
    {
     "data": {
      "text/html": [
       "<div>\n",
       "<style scoped>\n",
       "    .dataframe tbody tr th:only-of-type {\n",
       "        vertical-align: middle;\n",
       "    }\n",
       "\n",
       "    .dataframe tbody tr th {\n",
       "        vertical-align: top;\n",
       "    }\n",
       "\n",
       "    .dataframe thead th {\n",
       "        text-align: right;\n",
       "    }\n",
       "</style>\n",
       "<table border=\"1\" class=\"dataframe\">\n",
       "  <thead>\n",
       "    <tr style=\"text-align: right;\">\n",
       "      <th></th>\n",
       "      <th>Network Address</th>\n",
       "      <th>FirstHost Address</th>\n",
       "      <th>LastHost Address</th>\n",
       "      <th>Broadcast Address</th>\n",
       "      <th>SubnetMask Address</th>\n",
       "      <th>CIDR</th>\n",
       "    </tr>\n",
       "    <tr>\n",
       "      <th>SubnetID</th>\n",
       "      <th></th>\n",
       "      <th></th>\n",
       "      <th></th>\n",
       "      <th></th>\n",
       "      <th></th>\n",
       "      <th></th>\n",
       "    </tr>\n",
       "  </thead>\n",
       "  <tbody>\n",
       "    <tr>\n",
       "      <th>SN1</th>\n",
       "      <td>192.124.8.64</td>\n",
       "      <td>192.124.8.65</td>\n",
       "      <td>192.124.8.78</td>\n",
       "      <td>192.124.8.79</td>\n",
       "      <td>255.255.255.240</td>\n",
       "      <td>192.124.8.64/28</td>\n",
       "    </tr>\n",
       "    <tr>\n",
       "      <th>SN2</th>\n",
       "      <td>192.124.8.80</td>\n",
       "      <td>192.124.8.81</td>\n",
       "      <td>192.124.8.94</td>\n",
       "      <td>192.124.8.95</td>\n",
       "      <td>255.255.255.240</td>\n",
       "      <td>192.124.8.80/28</td>\n",
       "    </tr>\n",
       "    <tr>\n",
       "      <th>SN3</th>\n",
       "      <td>192.124.8.96</td>\n",
       "      <td>192.124.8.97</td>\n",
       "      <td>192.124.8.110</td>\n",
       "      <td>192.124.8.111</td>\n",
       "      <td>255.255.255.240</td>\n",
       "      <td>192.124.8.96/28</td>\n",
       "    </tr>\n",
       "    <tr>\n",
       "      <th>SN4</th>\n",
       "      <td>192.124.8.112</td>\n",
       "      <td>192.124.8.113</td>\n",
       "      <td>192.124.8.126</td>\n",
       "      <td>192.124.8.127</td>\n",
       "      <td>255.255.255.240</td>\n",
       "      <td>192.124.8.112/28</td>\n",
       "    </tr>\n",
       "  </tbody>\n",
       "</table>\n",
       "</div>"
      ],
      "text/plain": [
       "         Network Address FirstHost Address LastHost Address Broadcast Address  \\\n",
       "SubnetID                                                                        \n",
       "SN1         192.124.8.64      192.124.8.65     192.124.8.78      192.124.8.79   \n",
       "SN2         192.124.8.80      192.124.8.81     192.124.8.94      192.124.8.95   \n",
       "SN3         192.124.8.96      192.124.8.97    192.124.8.110     192.124.8.111   \n",
       "SN4        192.124.8.112     192.124.8.113    192.124.8.126     192.124.8.127   \n",
       "\n",
       "         SubnetMask Address              CIDR  \n",
       "SubnetID                                       \n",
       "SN1         255.255.255.240   192.124.8.64/28  \n",
       "SN2         255.255.255.240   192.124.8.80/28  \n",
       "SN3         255.255.255.240   192.124.8.96/28  \n",
       "SN4         255.255.255.240  192.124.8.112/28  "
      ]
     },
     "execution_count": 49,
     "metadata": {},
     "output_type": "execute_result"
    }
   ],
   "source": [
    "networkAddress.subNet(4)"
   ]
  },
  {
   "cell_type": "code",
   "execution_count": 371,
   "id": "e43dead9-2322-4444-ac31-36697602ea82",
   "metadata": {},
   "outputs": [
    {
     "name": "stdout",
     "output_type": "stream",
     "text": [
      "3\n"
     ]
    }
   ],
   "source": [
    "for i in range(3, 4):\n",
    "    print(i)"
   ]
  },
  {
   "cell_type": "code",
   "execution_count": 3,
   "id": "f36123c1-27db-44c0-95e1-f7b9b56da01b",
   "metadata": {},
   "outputs": [],
   "source": [
    "x = '192.34/5'"
   ]
  },
  {
   "cell_type": "code",
   "execution_count": 6,
   "id": "b7fc3039-dd3b-4f64-b6db-9f592ab53992",
   "metadata": {},
   "outputs": [],
   "source": [
    "y = '/' in x"
   ]
  },
  {
   "cell_type": "code",
   "execution_count": 7,
   "id": "b2548bbd-daea-4c1d-bc89-cca23f95edad",
   "metadata": {},
   "outputs": [
    {
     "data": {
      "text/plain": [
       "True"
      ]
     },
     "execution_count": 7,
     "metadata": {},
     "output_type": "execute_result"
    }
   ],
   "source": [
    "y"
   ]
  },
  {
   "cell_type": "code",
   "execution_count": null,
   "id": "e880eb6e-3e48-4770-9220-7204d7b2502d",
   "metadata": {},
   "outputs": [],
   "source": []
  }
 ],
 "metadata": {
  "kernelspec": {
   "display_name": "Python 3 (ipykernel)",
   "language": "python",
   "name": "python3"
  },
  "language_info": {
   "codemirror_mode": {
    "name": "ipython",
    "version": 3
   },
   "file_extension": ".py",
   "mimetype": "text/x-python",
   "name": "python",
   "nbconvert_exporter": "python",
   "pygments_lexer": "ipython3",
   "version": "3.9.17"
  }
 },
 "nbformat": 4,
 "nbformat_minor": 5
}
